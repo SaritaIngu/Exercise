{
 "cells": [
  {
   "cell_type": "code",
   "execution_count": 1,
   "metadata": {},
   "outputs": [],
   "source": [
    "import pandas as pd\n",
    "import numpy as np"
   ]
  },
  {
   "cell_type": "code",
   "execution_count": 2,
   "metadata": {},
   "outputs": [],
   "source": [
    "df = pd.read_csv('Adops & Data Scientist Sample Data - Q1 Analytics.csv')"
   ]
  },
  {
   "cell_type": "code",
   "execution_count": 3,
   "metadata": {},
   "outputs": [
    {
     "data": {
      "text/html": [
       "<div>\n",
       "<style scoped>\n",
       "    .dataframe tbody tr th:only-of-type {\n",
       "        vertical-align: middle;\n",
       "    }\n",
       "\n",
       "    .dataframe tbody tr th {\n",
       "        vertical-align: top;\n",
       "    }\n",
       "\n",
       "    .dataframe thead th {\n",
       "        text-align: right;\n",
       "    }\n",
       "</style>\n",
       "<table border=\"1\" class=\"dataframe\">\n",
       "  <thead>\n",
       "    <tr style=\"text-align: right;\">\n",
       "      <th></th>\n",
       "      <th>ts</th>\n",
       "      <th>user_id</th>\n",
       "      <th>country_id</th>\n",
       "      <th>site_id</th>\n",
       "    </tr>\n",
       "  </thead>\n",
       "  <tbody>\n",
       "    <tr>\n",
       "      <td>0</td>\n",
       "      <td>2019-02-01 00:01:24</td>\n",
       "      <td>LC36FC</td>\n",
       "      <td>TL6</td>\n",
       "      <td>N0OTG</td>\n",
       "    </tr>\n",
       "    <tr>\n",
       "      <td>1</td>\n",
       "      <td>2019-02-01 00:10:19</td>\n",
       "      <td>LC39B6</td>\n",
       "      <td>TL6</td>\n",
       "      <td>N0OTG</td>\n",
       "    </tr>\n",
       "    <tr>\n",
       "      <td>2</td>\n",
       "      <td>2019-02-01 00:21:50</td>\n",
       "      <td>LC3500</td>\n",
       "      <td>TL6</td>\n",
       "      <td>N0OTG</td>\n",
       "    </tr>\n",
       "    <tr>\n",
       "      <td>3</td>\n",
       "      <td>2019-02-01 00:22:50</td>\n",
       "      <td>LC374F</td>\n",
       "      <td>TL6</td>\n",
       "      <td>N0OTG</td>\n",
       "    </tr>\n",
       "    <tr>\n",
       "      <td>4</td>\n",
       "      <td>2019-02-01 00:23:44</td>\n",
       "      <td>LCC1C3</td>\n",
       "      <td>TL6</td>\n",
       "      <td>QGO3G</td>\n",
       "    </tr>\n",
       "  </tbody>\n",
       "</table>\n",
       "</div>"
      ],
      "text/plain": [
       "                    ts user_id country_id site_id\n",
       "0  2019-02-01 00:01:24  LC36FC        TL6   N0OTG\n",
       "1  2019-02-01 00:10:19  LC39B6        TL6   N0OTG\n",
       "2  2019-02-01 00:21:50  LC3500        TL6   N0OTG\n",
       "3  2019-02-01 00:22:50  LC374F        TL6   N0OTG\n",
       "4  2019-02-01 00:23:44  LCC1C3        TL6   QGO3G"
      ]
     },
     "execution_count": 3,
     "metadata": {},
     "output_type": "execute_result"
    }
   ],
   "source": [
    "df.head()"
   ]
  },
  {
   "cell_type": "code",
   "execution_count": 4,
   "metadata": {},
   "outputs": [
    {
     "data": {
      "text/plain": [
       "(3553, 4)"
      ]
     },
     "execution_count": 4,
     "metadata": {},
     "output_type": "execute_result"
    }
   ],
   "source": [
    "df.shape"
   ]
  },
  {
   "cell_type": "code",
   "execution_count": 5,
   "metadata": {},
   "outputs": [
    {
     "name": "stdout",
     "output_type": "stream",
     "text": [
      "<class 'pandas.core.frame.DataFrame'>\n",
      "RangeIndex: 3553 entries, 0 to 3552\n",
      "Data columns (total 4 columns):\n",
      "ts            3553 non-null object\n",
      "user_id       3553 non-null object\n",
      "country_id    3553 non-null object\n",
      "site_id       3553 non-null object\n",
      "dtypes: object(4)\n",
      "memory usage: 111.2+ KB\n"
     ]
    }
   ],
   "source": [
    "df.info()"
   ]
  },
  {
   "cell_type": "markdown",
   "metadata": {},
   "source": [
    "#### Q1: Consider only the rows with country_id = \"BDV\" (there are 844 such rows). For each site_id, we can compute the number of unique user_id's found in these 844 rows. Which site_id has the largest number of unique users? And what's the number?"
   ]
  },
  {
   "cell_type": "code",
   "execution_count": 6,
   "metadata": {},
   "outputs": [],
   "source": [
    "df_BDV = df[df['country_id']=='BDV']"
   ]
  },
  {
   "cell_type": "code",
   "execution_count": 7,
   "metadata": {},
   "outputs": [
    {
     "data": {
      "text/plain": [
       "array(['N0OTG', '5NPAU', '3POLC'], dtype=object)"
      ]
     },
     "execution_count": 7,
     "metadata": {},
     "output_type": "execute_result"
    }
   ],
   "source": [
    "df_BDV['site_id'].unique()"
   ]
  },
  {
   "cell_type": "code",
   "execution_count": 8,
   "metadata": {},
   "outputs": [],
   "source": [
    "df_BDV = df_BDV[['user_id','site_id']]"
   ]
  },
  {
   "cell_type": "code",
   "execution_count": 10,
   "metadata": {},
   "outputs": [
    {
     "data": {
      "text/plain": [
       "site_id\n",
       "5NPAU    544\n",
       "N0OTG     90\n",
       "3POLC      2\n",
       "Name: user_id, dtype: int64"
      ]
     },
     "execution_count": 10,
     "metadata": {},
     "output_type": "execute_result"
    }
   ],
   "source": [
    "df_BDV.groupby('site_id')['user_id'].nunique().sort_values(ascending = False)"
   ]
  },
  {
   "cell_type": "markdown",
   "metadata": {},
   "source": [
    "__Site '5NPAU' has maximum unique users, and number being 544__"
   ]
  },
  {
   "cell_type": "markdown",
   "metadata": {},
   "source": [
    "#### Q2 : Between 2019-02-03 00:00:00 and 2019-02-04 23:59:59, there are four users who visited a certain site more than 10 times. Find these four users & which sites they (each) visited more than 10 times. (Simply provides four triples in the form (user_id, site_id, number of visits) in the box below.)"
   ]
  },
  {
   "cell_type": "code",
   "execution_count": 11,
   "metadata": {},
   "outputs": [],
   "source": [
    "df_ts = df[df['ts'] > '2019-02-03 00:00:00']"
   ]
  },
  {
   "cell_type": "code",
   "execution_count": 12,
   "metadata": {},
   "outputs": [],
   "source": [
    "df_ts = df_ts[df_ts['ts'] < '2019-02-04 23:59:59']"
   ]
  },
  {
   "cell_type": "code",
   "execution_count": 14,
   "metadata": {},
   "outputs": [
    {
     "data": {
      "text/html": [
       "<div>\n",
       "<style scoped>\n",
       "    .dataframe tbody tr th:only-of-type {\n",
       "        vertical-align: middle;\n",
       "    }\n",
       "\n",
       "    .dataframe tbody tr th {\n",
       "        vertical-align: top;\n",
       "    }\n",
       "\n",
       "    .dataframe thead th {\n",
       "        text-align: right;\n",
       "    }\n",
       "</style>\n",
       "<table border=\"1\" class=\"dataframe\">\n",
       "  <thead>\n",
       "    <tr style=\"text-align: right;\">\n",
       "      <th></th>\n",
       "      <th>ts</th>\n",
       "      <th>user_id</th>\n",
       "      <th>country_id</th>\n",
       "      <th>site_id</th>\n",
       "    </tr>\n",
       "  </thead>\n",
       "  <tbody>\n",
       "    <tr>\n",
       "      <td>1049</td>\n",
       "      <td>2019-02-03 00:02:31</td>\n",
       "      <td>LC3C7E</td>\n",
       "      <td>TL6</td>\n",
       "      <td>3POLC</td>\n",
       "    </tr>\n",
       "    <tr>\n",
       "      <td>1050</td>\n",
       "      <td>2019-02-03 00:03:09</td>\n",
       "      <td>LC3C7E</td>\n",
       "      <td>TL6</td>\n",
       "      <td>3POLC</td>\n",
       "    </tr>\n",
       "    <tr>\n",
       "      <td>1051</td>\n",
       "      <td>2019-02-03 00:03:46</td>\n",
       "      <td>LC3C7E</td>\n",
       "      <td>TL6</td>\n",
       "      <td>3POLC</td>\n",
       "    </tr>\n",
       "    <tr>\n",
       "      <td>1052</td>\n",
       "      <td>2019-02-03 00:04:12</td>\n",
       "      <td>LC3C7E</td>\n",
       "      <td>TL6</td>\n",
       "      <td>3POLC</td>\n",
       "    </tr>\n",
       "    <tr>\n",
       "      <td>1053</td>\n",
       "      <td>2019-02-03 00:04:25</td>\n",
       "      <td>LC3C7E</td>\n",
       "      <td>TL6</td>\n",
       "      <td>3POLC</td>\n",
       "    </tr>\n",
       "  </tbody>\n",
       "</table>\n",
       "</div>"
      ],
      "text/plain": [
       "                       ts user_id country_id site_id\n",
       "1049  2019-02-03 00:02:31  LC3C7E        TL6   3POLC\n",
       "1050  2019-02-03 00:03:09  LC3C7E        TL6   3POLC\n",
       "1051  2019-02-03 00:03:46  LC3C7E        TL6   3POLC\n",
       "1052  2019-02-03 00:04:12  LC3C7E        TL6   3POLC\n",
       "1053  2019-02-03 00:04:25  LC3C7E        TL6   3POLC"
      ]
     },
     "execution_count": 14,
     "metadata": {},
     "output_type": "execute_result"
    }
   ],
   "source": [
    "df_ts.head()"
   ]
  },
  {
   "cell_type": "code",
   "execution_count": 15,
   "metadata": {},
   "outputs": [],
   "source": [
    "df_ts_top4Visits = df_ts.groupby(['user_id','site_id']).ts.count().sort_values(ascending = False)[0:4]"
   ]
  },
  {
   "cell_type": "code",
   "execution_count": 16,
   "metadata": {},
   "outputs": [
    {
     "data": {
      "text/html": [
       "<div>\n",
       "<style scoped>\n",
       "    .dataframe tbody tr th:only-of-type {\n",
       "        vertical-align: middle;\n",
       "    }\n",
       "\n",
       "    .dataframe tbody tr th {\n",
       "        vertical-align: top;\n",
       "    }\n",
       "\n",
       "    .dataframe thead th {\n",
       "        text-align: right;\n",
       "    }\n",
       "</style>\n",
       "<table border=\"1\" class=\"dataframe\">\n",
       "  <thead>\n",
       "    <tr style=\"text-align: right;\">\n",
       "      <th></th>\n",
       "      <th></th>\n",
       "      <th>number_of_visits</th>\n",
       "    </tr>\n",
       "    <tr>\n",
       "      <th>user_id</th>\n",
       "      <th>site_id</th>\n",
       "      <th></th>\n",
       "    </tr>\n",
       "  </thead>\n",
       "  <tbody>\n",
       "    <tr>\n",
       "      <td>LC3A59</td>\n",
       "      <td>N0OTG</td>\n",
       "      <td>26</td>\n",
       "    </tr>\n",
       "    <tr>\n",
       "      <td>LC06C3</td>\n",
       "      <td>N0OTG</td>\n",
       "      <td>25</td>\n",
       "    </tr>\n",
       "    <tr>\n",
       "      <td>LC3C9D</td>\n",
       "      <td>N0OTG</td>\n",
       "      <td>17</td>\n",
       "    </tr>\n",
       "    <tr>\n",
       "      <td>LC3C7E</td>\n",
       "      <td>3POLC</td>\n",
       "      <td>15</td>\n",
       "    </tr>\n",
       "  </tbody>\n",
       "</table>\n",
       "</div>"
      ],
      "text/plain": [
       "                 number_of_visits\n",
       "user_id site_id                  \n",
       "LC3A59  N0OTG                  26\n",
       "LC06C3  N0OTG                  25\n",
       "LC3C9D  N0OTG                  17\n",
       "LC3C7E  3POLC                  15"
      ]
     },
     "execution_count": 16,
     "metadata": {},
     "output_type": "execute_result"
    }
   ],
   "source": [
    "df_ts_top4Visits\n",
    "df_ts_top4Visits = pd.DataFrame(df_ts_top4Visits)\n",
    "df_ts_top4Visits.rename(columns={'ts':'number_of_visits'})"
   ]
  },
  {
   "cell_type": "markdown",
   "metadata": {},
   "source": [
    "#### Q3 : For each site, compute the unique number of users whose last visit (found in the original data set) was to that site. For instance, user \"LC3561\"'s last visit is to \"N0OTG\" based on timestamp data. Based on this measure, what are top three sites? (hint: site \"3POLC\" is ranked at 5th with 28 users whose last visit in the data set was to 3POLC; simply provide three pairs in the form (site_id, number of users).)"
   ]
  },
  {
   "cell_type": "code",
   "execution_count": 17,
   "metadata": {},
   "outputs": [],
   "source": [
    "df_visits = pd.read_csv('Adops & Data Scientist Sample Data - Q1 Analytics.csv')"
   ]
  },
  {
   "cell_type": "code",
   "execution_count": 18,
   "metadata": {},
   "outputs": [
    {
     "data": {
      "text/plain": [
       "8"
      ]
     },
     "execution_count": 18,
     "metadata": {},
     "output_type": "execute_result"
    }
   ],
   "source": [
    "df_visits['site_id'].nunique()  ## number of unique sites = 8"
   ]
  },
  {
   "cell_type": "code",
   "execution_count": 19,
   "metadata": {},
   "outputs": [
    {
     "data": {
      "text/plain": [
       "array(['N0OTG', 'QGO3G', 'GVOFK', '3POLC', '5NPAU', 'RT9Z6', 'JSUUP',\n",
       "       'EUZ/Q'], dtype=object)"
      ]
     },
     "execution_count": 19,
     "metadata": {},
     "output_type": "execute_result"
    }
   ],
   "source": [
    "df_visits['site_id'].unique()"
   ]
  },
  {
   "cell_type": "code",
   "execution_count": 21,
   "metadata": {},
   "outputs": [],
   "source": [
    "df_site_last = df_visits.groupby(['user_id']).agg({'ts':'max','site_id':'last'})"
   ]
  },
  {
   "cell_type": "code",
   "execution_count": 22,
   "metadata": {},
   "outputs": [
    {
     "data": {
      "text/html": [
       "<div>\n",
       "<style scoped>\n",
       "    .dataframe tbody tr th:only-of-type {\n",
       "        vertical-align: middle;\n",
       "    }\n",
       "\n",
       "    .dataframe tbody tr th {\n",
       "        vertical-align: top;\n",
       "    }\n",
       "\n",
       "    .dataframe thead th {\n",
       "        text-align: right;\n",
       "    }\n",
       "</style>\n",
       "<table border=\"1\" class=\"dataframe\">\n",
       "  <thead>\n",
       "    <tr style=\"text-align: right;\">\n",
       "      <th></th>\n",
       "      <th>ts</th>\n",
       "      <th>site_id</th>\n",
       "    </tr>\n",
       "    <tr>\n",
       "      <th>user_id</th>\n",
       "      <th></th>\n",
       "      <th></th>\n",
       "    </tr>\n",
       "  </thead>\n",
       "  <tbody>\n",
       "    <tr>\n",
       "      <td>LC00C3</td>\n",
       "      <td>2019-02-03 18:52:50</td>\n",
       "      <td>5NPAU</td>\n",
       "    </tr>\n",
       "    <tr>\n",
       "      <td>LC01C3</td>\n",
       "      <td>2019-02-04 11:35:10</td>\n",
       "      <td>5NPAU</td>\n",
       "    </tr>\n",
       "    <tr>\n",
       "      <td>LC05C3</td>\n",
       "      <td>2019-02-02 14:14:44</td>\n",
       "      <td>5NPAU</td>\n",
       "    </tr>\n",
       "    <tr>\n",
       "      <td>LC06C3</td>\n",
       "      <td>2019-02-07 01:16:12</td>\n",
       "      <td>N0OTG</td>\n",
       "    </tr>\n",
       "    <tr>\n",
       "      <td>LC07C3</td>\n",
       "      <td>2019-02-05 19:06:42</td>\n",
       "      <td>5NPAU</td>\n",
       "    </tr>\n",
       "    <tr>\n",
       "      <td>LC08C3</td>\n",
       "      <td>2019-02-05 16:11:30</td>\n",
       "      <td>5NPAU</td>\n",
       "    </tr>\n",
       "    <tr>\n",
       "      <td>LC0C32</td>\n",
       "      <td>2019-02-07 01:18:03</td>\n",
       "      <td>N0OTG</td>\n",
       "    </tr>\n",
       "    <tr>\n",
       "      <td>LC0C34</td>\n",
       "      <td>2019-02-06 21:01:55</td>\n",
       "      <td>5NPAU</td>\n",
       "    </tr>\n",
       "    <tr>\n",
       "      <td>LC0C35</td>\n",
       "      <td>2019-02-01 17:44:39</td>\n",
       "      <td>5NPAU</td>\n",
       "    </tr>\n",
       "    <tr>\n",
       "      <td>LC0C3B</td>\n",
       "      <td>2019-02-01 22:02:40</td>\n",
       "      <td>QGO3G</td>\n",
       "    </tr>\n",
       "  </tbody>\n",
       "</table>\n",
       "</div>"
      ],
      "text/plain": [
       "                          ts site_id\n",
       "user_id                             \n",
       "LC00C3   2019-02-03 18:52:50   5NPAU\n",
       "LC01C3   2019-02-04 11:35:10   5NPAU\n",
       "LC05C3   2019-02-02 14:14:44   5NPAU\n",
       "LC06C3   2019-02-07 01:16:12   N0OTG\n",
       "LC07C3   2019-02-05 19:06:42   5NPAU\n",
       "LC08C3   2019-02-05 16:11:30   5NPAU\n",
       "LC0C32   2019-02-07 01:18:03   N0OTG\n",
       "LC0C34   2019-02-06 21:01:55   5NPAU\n",
       "LC0C35   2019-02-01 17:44:39   5NPAU\n",
       "LC0C3B   2019-02-01 22:02:40   QGO3G"
      ]
     },
     "execution_count": 22,
     "metadata": {},
     "output_type": "execute_result"
    }
   ],
   "source": [
    "df_site_last.head(10)"
   ]
  },
  {
   "cell_type": "code",
   "execution_count": 23,
   "metadata": {},
   "outputs": [
    {
     "data": {
      "text/html": [
       "<div>\n",
       "<style scoped>\n",
       "    .dataframe tbody tr th:only-of-type {\n",
       "        vertical-align: middle;\n",
       "    }\n",
       "\n",
       "    .dataframe tbody tr th {\n",
       "        vertical-align: top;\n",
       "    }\n",
       "\n",
       "    .dataframe thead th {\n",
       "        text-align: right;\n",
       "    }\n",
       "</style>\n",
       "<table border=\"1\" class=\"dataframe\">\n",
       "  <thead>\n",
       "    <tr style=\"text-align: right;\">\n",
       "      <th></th>\n",
       "      <th>ts</th>\n",
       "      <th>user_id</th>\n",
       "      <th>country_id</th>\n",
       "      <th>site_id</th>\n",
       "    </tr>\n",
       "  </thead>\n",
       "  <tbody>\n",
       "    <tr>\n",
       "      <td>505</td>\n",
       "      <td>2019-02-01 22:02:40</td>\n",
       "      <td>LC0C3B</td>\n",
       "      <td>TL6</td>\n",
       "      <td>QGO3G</td>\n",
       "    </tr>\n",
       "  </tbody>\n",
       "</table>\n",
       "</div>"
      ],
      "text/plain": [
       "                      ts user_id country_id site_id\n",
       "505  2019-02-01 22:02:40  LC0C3B        TL6   QGO3G"
      ]
     },
     "execution_count": 23,
     "metadata": {},
     "output_type": "execute_result"
    }
   ],
   "source": [
    "df_visits[df_visits['user_id']=='LC0C3B']    #verify with some users that the ts and site aggregations computed above is correct"
   ]
  },
  {
   "cell_type": "code",
   "execution_count": 24,
   "metadata": {},
   "outputs": [
    {
     "data": {
      "text/html": [
       "<div>\n",
       "<style scoped>\n",
       "    .dataframe tbody tr th:only-of-type {\n",
       "        vertical-align: middle;\n",
       "    }\n",
       "\n",
       "    .dataframe tbody tr th {\n",
       "        vertical-align: top;\n",
       "    }\n",
       "\n",
       "    .dataframe thead th {\n",
       "        text-align: right;\n",
       "    }\n",
       "</style>\n",
       "<table border=\"1\" class=\"dataframe\">\n",
       "  <thead>\n",
       "    <tr style=\"text-align: right;\">\n",
       "      <th></th>\n",
       "      <th>user_id</th>\n",
       "      <th>ts</th>\n",
       "      <th>site_id</th>\n",
       "    </tr>\n",
       "  </thead>\n",
       "  <tbody>\n",
       "    <tr>\n",
       "      <td>0</td>\n",
       "      <td>LC00C3</td>\n",
       "      <td>2019-02-03 18:52:50</td>\n",
       "      <td>5NPAU</td>\n",
       "    </tr>\n",
       "    <tr>\n",
       "      <td>1</td>\n",
       "      <td>LC01C3</td>\n",
       "      <td>2019-02-04 11:35:10</td>\n",
       "      <td>5NPAU</td>\n",
       "    </tr>\n",
       "    <tr>\n",
       "      <td>2</td>\n",
       "      <td>LC05C3</td>\n",
       "      <td>2019-02-02 14:14:44</td>\n",
       "      <td>5NPAU</td>\n",
       "    </tr>\n",
       "    <tr>\n",
       "      <td>3</td>\n",
       "      <td>LC06C3</td>\n",
       "      <td>2019-02-07 01:16:12</td>\n",
       "      <td>N0OTG</td>\n",
       "    </tr>\n",
       "    <tr>\n",
       "      <td>4</td>\n",
       "      <td>LC07C3</td>\n",
       "      <td>2019-02-05 19:06:42</td>\n",
       "      <td>5NPAU</td>\n",
       "    </tr>\n",
       "    <tr>\n",
       "      <td>...</td>\n",
       "      <td>...</td>\n",
       "      <td>...</td>\n",
       "      <td>...</td>\n",
       "    </tr>\n",
       "    <tr>\n",
       "      <td>1911</td>\n",
       "      <td>LCFC3B</td>\n",
       "      <td>2019-02-05 04:53:03</td>\n",
       "      <td>N0OTG</td>\n",
       "    </tr>\n",
       "    <tr>\n",
       "      <td>1912</td>\n",
       "      <td>LCFC3D</td>\n",
       "      <td>2019-02-01 18:59:50</td>\n",
       "      <td>N0OTG</td>\n",
       "    </tr>\n",
       "    <tr>\n",
       "      <td>1913</td>\n",
       "      <td>LCFC3E</td>\n",
       "      <td>2019-02-01 20:49:13</td>\n",
       "      <td>5NPAU</td>\n",
       "    </tr>\n",
       "    <tr>\n",
       "      <td>1914</td>\n",
       "      <td>LCFEC3</td>\n",
       "      <td>2019-02-07 06:23:59</td>\n",
       "      <td>3POLC</td>\n",
       "    </tr>\n",
       "    <tr>\n",
       "      <td>1915</td>\n",
       "      <td>LCFFC3</td>\n",
       "      <td>2019-02-05 03:31:17</td>\n",
       "      <td>N0OTG</td>\n",
       "    </tr>\n",
       "  </tbody>\n",
       "</table>\n",
       "<p>1916 rows × 3 columns</p>\n",
       "</div>"
      ],
      "text/plain": [
       "     user_id                   ts site_id\n",
       "0     LC00C3  2019-02-03 18:52:50   5NPAU\n",
       "1     LC01C3  2019-02-04 11:35:10   5NPAU\n",
       "2     LC05C3  2019-02-02 14:14:44   5NPAU\n",
       "3     LC06C3  2019-02-07 01:16:12   N0OTG\n",
       "4     LC07C3  2019-02-05 19:06:42   5NPAU\n",
       "...      ...                  ...     ...\n",
       "1911  LCFC3B  2019-02-05 04:53:03   N0OTG\n",
       "1912  LCFC3D  2019-02-01 18:59:50   N0OTG\n",
       "1913  LCFC3E  2019-02-01 20:49:13   5NPAU\n",
       "1914  LCFEC3  2019-02-07 06:23:59   3POLC\n",
       "1915  LCFFC3  2019-02-05 03:31:17   N0OTG\n",
       "\n",
       "[1916 rows x 3 columns]"
      ]
     },
     "execution_count": 24,
     "metadata": {},
     "output_type": "execute_result"
    }
   ],
   "source": [
    "df_site_last.reset_index(inplace=True)\n",
    "df_site_last"
   ]
  },
  {
   "cell_type": "code",
   "execution_count": 25,
   "metadata": {},
   "outputs": [
    {
     "data": {
      "text/plain": [
       "site_id\n",
       "5NPAU    992\n",
       "N0OTG    561\n",
       "QGO3G    289\n",
       "GVOFK     42\n",
       "3POLC     28\n",
       "RT9Z6      2\n",
       "JSUUP      1\n",
       "EUZ/Q      1\n",
       "Name: user_id, dtype: int64"
      ]
     },
     "execution_count": 25,
     "metadata": {},
     "output_type": "execute_result"
    }
   ],
   "source": [
    "df_site_last.groupby('site_id').user_id.count().sort_values(ascending = False)"
   ]
  },
  {
   "cell_type": "code",
   "execution_count": 26,
   "metadata": {},
   "outputs": [
    {
     "data": {
      "text/html": [
       "<div>\n",
       "<style scoped>\n",
       "    .dataframe tbody tr th:only-of-type {\n",
       "        vertical-align: middle;\n",
       "    }\n",
       "\n",
       "    .dataframe tbody tr th {\n",
       "        vertical-align: top;\n",
       "    }\n",
       "\n",
       "    .dataframe thead th {\n",
       "        text-align: right;\n",
       "    }\n",
       "</style>\n",
       "<table border=\"1\" class=\"dataframe\">\n",
       "  <thead>\n",
       "    <tr style=\"text-align: right;\">\n",
       "      <th></th>\n",
       "      <th>number_of_users</th>\n",
       "    </tr>\n",
       "    <tr>\n",
       "      <th>site_id</th>\n",
       "      <th></th>\n",
       "    </tr>\n",
       "  </thead>\n",
       "  <tbody>\n",
       "    <tr>\n",
       "      <td>5NPAU</td>\n",
       "      <td>992</td>\n",
       "    </tr>\n",
       "    <tr>\n",
       "      <td>N0OTG</td>\n",
       "      <td>561</td>\n",
       "    </tr>\n",
       "    <tr>\n",
       "      <td>QGO3G</td>\n",
       "      <td>289</td>\n",
       "    </tr>\n",
       "  </tbody>\n",
       "</table>\n",
       "</div>"
      ],
      "text/plain": [
       "         number_of_users\n",
       "site_id                 \n",
       "5NPAU                992\n",
       "N0OTG                561\n",
       "QGO3G                289"
      ]
     },
     "execution_count": 26,
     "metadata": {},
     "output_type": "execute_result"
    }
   ],
   "source": [
    "df_site_last = df_site_last.groupby('site_id').user_id.count().sort_values(ascending = False)\n",
    "df_top3 = pd.DataFrame(df_site_last[0:3])\n",
    "df_top3.rename(columns={'user_id':'number_of_users'})"
   ]
  },
  {
   "cell_type": "markdown",
   "metadata": {},
   "source": [
    "#### Q4 : For each user, determine the first site he/she visited and the last site he/she visited based on the timestamp data. Compute the number of users whose first/last visits are to the same website. What is the number?"
   ]
  },
  {
   "cell_type": "code",
   "execution_count": 28,
   "metadata": {},
   "outputs": [],
   "source": [
    "df = pd.read_csv('Adops & Data Scientist Sample Data - Q1 Analytics.csv')"
   ]
  },
  {
   "cell_type": "code",
   "execution_count": 29,
   "metadata": {},
   "outputs": [
    {
     "data": {
      "text/plain": [
       "1916"
      ]
     },
     "execution_count": 29,
     "metadata": {},
     "output_type": "execute_result"
    }
   ],
   "source": [
    "df['user_id'].nunique()"
   ]
  },
  {
   "cell_type": "markdown",
   "metadata": {},
   "source": [
    " __Total__ __Unique__ __Users__ = __1916__"
   ]
  },
  {
   "cell_type": "code",
   "execution_count": 30,
   "metadata": {},
   "outputs": [],
   "source": [
    "df_user_visits = df[['ts','user_id','site_id']]"
   ]
  },
  {
   "cell_type": "code",
   "execution_count": 31,
   "metadata": {},
   "outputs": [
    {
     "data": {
      "text/html": [
       "<div>\n",
       "<style scoped>\n",
       "    .dataframe tbody tr th:only-of-type {\n",
       "        vertical-align: middle;\n",
       "    }\n",
       "\n",
       "    .dataframe tbody tr th {\n",
       "        vertical-align: top;\n",
       "    }\n",
       "\n",
       "    .dataframe thead th {\n",
       "        text-align: right;\n",
       "    }\n",
       "</style>\n",
       "<table border=\"1\" class=\"dataframe\">\n",
       "  <thead>\n",
       "    <tr style=\"text-align: right;\">\n",
       "      <th></th>\n",
       "      <th>ts</th>\n",
       "      <th>user_id</th>\n",
       "      <th>site_id</th>\n",
       "    </tr>\n",
       "  </thead>\n",
       "  <tbody>\n",
       "    <tr>\n",
       "      <td>0</td>\n",
       "      <td>2019-02-01 00:01:24</td>\n",
       "      <td>LC36FC</td>\n",
       "      <td>N0OTG</td>\n",
       "    </tr>\n",
       "    <tr>\n",
       "      <td>1</td>\n",
       "      <td>2019-02-01 00:10:19</td>\n",
       "      <td>LC39B6</td>\n",
       "      <td>N0OTG</td>\n",
       "    </tr>\n",
       "    <tr>\n",
       "      <td>2</td>\n",
       "      <td>2019-02-01 00:21:50</td>\n",
       "      <td>LC3500</td>\n",
       "      <td>N0OTG</td>\n",
       "    </tr>\n",
       "    <tr>\n",
       "      <td>3</td>\n",
       "      <td>2019-02-01 00:22:50</td>\n",
       "      <td>LC374F</td>\n",
       "      <td>N0OTG</td>\n",
       "    </tr>\n",
       "    <tr>\n",
       "      <td>4</td>\n",
       "      <td>2019-02-01 00:23:44</td>\n",
       "      <td>LCC1C3</td>\n",
       "      <td>QGO3G</td>\n",
       "    </tr>\n",
       "  </tbody>\n",
       "</table>\n",
       "</div>"
      ],
      "text/plain": [
       "                    ts user_id site_id\n",
       "0  2019-02-01 00:01:24  LC36FC   N0OTG\n",
       "1  2019-02-01 00:10:19  LC39B6   N0OTG\n",
       "2  2019-02-01 00:21:50  LC3500   N0OTG\n",
       "3  2019-02-01 00:22:50  LC374F   N0OTG\n",
       "4  2019-02-01 00:23:44  LCC1C3   QGO3G"
      ]
     },
     "execution_count": 31,
     "metadata": {},
     "output_type": "execute_result"
    }
   ],
   "source": [
    "df_user_visits.head()"
   ]
  },
  {
   "cell_type": "code",
   "execution_count": 32,
   "metadata": {},
   "outputs": [],
   "source": [
    "#compute aggregations for the min/max timestamp (first and last visit for each user), and corresponding site names\n",
    "df_site_first = df_user_visits.groupby(['user_id']).agg({'ts':['min','max'],'site_id':['first','last'] })"
   ]
  },
  {
   "cell_type": "code",
   "execution_count": 33,
   "metadata": {},
   "outputs": [
    {
     "data": {
      "text/html": [
       "<div>\n",
       "<style scoped>\n",
       "    .dataframe tbody tr th:only-of-type {\n",
       "        vertical-align: middle;\n",
       "    }\n",
       "\n",
       "    .dataframe tbody tr th {\n",
       "        vertical-align: top;\n",
       "    }\n",
       "\n",
       "    .dataframe thead tr th {\n",
       "        text-align: left;\n",
       "    }\n",
       "\n",
       "    .dataframe thead tr:last-of-type th {\n",
       "        text-align: right;\n",
       "    }\n",
       "</style>\n",
       "<table border=\"1\" class=\"dataframe\">\n",
       "  <thead>\n",
       "    <tr>\n",
       "      <th></th>\n",
       "      <th colspan=\"2\" halign=\"left\">ts</th>\n",
       "      <th colspan=\"2\" halign=\"left\">site_id</th>\n",
       "    </tr>\n",
       "    <tr>\n",
       "      <th></th>\n",
       "      <th>min</th>\n",
       "      <th>max</th>\n",
       "      <th>first</th>\n",
       "      <th>last</th>\n",
       "    </tr>\n",
       "    <tr>\n",
       "      <th>user_id</th>\n",
       "      <th></th>\n",
       "      <th></th>\n",
       "      <th></th>\n",
       "      <th></th>\n",
       "    </tr>\n",
       "  </thead>\n",
       "  <tbody>\n",
       "    <tr>\n",
       "      <td>LC00C3</td>\n",
       "      <td>2019-02-03 18:52:50</td>\n",
       "      <td>2019-02-03 18:52:50</td>\n",
       "      <td>5NPAU</td>\n",
       "      <td>5NPAU</td>\n",
       "    </tr>\n",
       "    <tr>\n",
       "      <td>LC01C3</td>\n",
       "      <td>2019-02-04 11:35:10</td>\n",
       "      <td>2019-02-04 11:35:10</td>\n",
       "      <td>5NPAU</td>\n",
       "      <td>5NPAU</td>\n",
       "    </tr>\n",
       "    <tr>\n",
       "      <td>LC05C3</td>\n",
       "      <td>2019-02-02 14:14:44</td>\n",
       "      <td>2019-02-02 14:14:44</td>\n",
       "      <td>5NPAU</td>\n",
       "      <td>5NPAU</td>\n",
       "    </tr>\n",
       "    <tr>\n",
       "      <td>LC06C3</td>\n",
       "      <td>2019-02-01 22:49:39</td>\n",
       "      <td>2019-02-07 01:16:12</td>\n",
       "      <td>N0OTG</td>\n",
       "      <td>N0OTG</td>\n",
       "    </tr>\n",
       "    <tr>\n",
       "      <td>LC07C3</td>\n",
       "      <td>2019-02-05 19:06:42</td>\n",
       "      <td>2019-02-05 19:06:42</td>\n",
       "      <td>5NPAU</td>\n",
       "      <td>5NPAU</td>\n",
       "    </tr>\n",
       "    <tr>\n",
       "      <td>LC08C3</td>\n",
       "      <td>2019-02-05 16:11:30</td>\n",
       "      <td>2019-02-05 16:11:30</td>\n",
       "      <td>5NPAU</td>\n",
       "      <td>5NPAU</td>\n",
       "    </tr>\n",
       "    <tr>\n",
       "      <td>LC0C32</td>\n",
       "      <td>2019-02-05 22:33:51</td>\n",
       "      <td>2019-02-07 01:18:03</td>\n",
       "      <td>QGO3G</td>\n",
       "      <td>N0OTG</td>\n",
       "    </tr>\n",
       "    <tr>\n",
       "      <td>LC0C34</td>\n",
       "      <td>2019-02-06 21:01:55</td>\n",
       "      <td>2019-02-06 21:01:55</td>\n",
       "      <td>5NPAU</td>\n",
       "      <td>5NPAU</td>\n",
       "    </tr>\n",
       "    <tr>\n",
       "      <td>LC0C35</td>\n",
       "      <td>2019-02-01 17:44:39</td>\n",
       "      <td>2019-02-01 17:44:39</td>\n",
       "      <td>5NPAU</td>\n",
       "      <td>5NPAU</td>\n",
       "    </tr>\n",
       "    <tr>\n",
       "      <td>LC0C3B</td>\n",
       "      <td>2019-02-01 22:02:40</td>\n",
       "      <td>2019-02-01 22:02:40</td>\n",
       "      <td>QGO3G</td>\n",
       "      <td>QGO3G</td>\n",
       "    </tr>\n",
       "  </tbody>\n",
       "</table>\n",
       "</div>"
      ],
      "text/plain": [
       "                          ts                      site_id       \n",
       "                         min                  max   first   last\n",
       "user_id                                                         \n",
       "LC00C3   2019-02-03 18:52:50  2019-02-03 18:52:50   5NPAU  5NPAU\n",
       "LC01C3   2019-02-04 11:35:10  2019-02-04 11:35:10   5NPAU  5NPAU\n",
       "LC05C3   2019-02-02 14:14:44  2019-02-02 14:14:44   5NPAU  5NPAU\n",
       "LC06C3   2019-02-01 22:49:39  2019-02-07 01:16:12   N0OTG  N0OTG\n",
       "LC07C3   2019-02-05 19:06:42  2019-02-05 19:06:42   5NPAU  5NPAU\n",
       "LC08C3   2019-02-05 16:11:30  2019-02-05 16:11:30   5NPAU  5NPAU\n",
       "LC0C32   2019-02-05 22:33:51  2019-02-07 01:18:03   QGO3G  N0OTG\n",
       "LC0C34   2019-02-06 21:01:55  2019-02-06 21:01:55   5NPAU  5NPAU\n",
       "LC0C35   2019-02-01 17:44:39  2019-02-01 17:44:39   5NPAU  5NPAU\n",
       "LC0C3B   2019-02-01 22:02:40  2019-02-01 22:02:40   QGO3G  QGO3G"
      ]
     },
     "execution_count": 33,
     "metadata": {},
     "output_type": "execute_result"
    }
   ],
   "source": [
    "df_site_first.head(10)"
   ]
  },
  {
   "cell_type": "code",
   "execution_count": 34,
   "metadata": {},
   "outputs": [
    {
     "data": {
      "text/html": [
       "<div>\n",
       "<style scoped>\n",
       "    .dataframe tbody tr th:only-of-type {\n",
       "        vertical-align: middle;\n",
       "    }\n",
       "\n",
       "    .dataframe tbody tr th {\n",
       "        vertical-align: top;\n",
       "    }\n",
       "\n",
       "    .dataframe thead th {\n",
       "        text-align: right;\n",
       "    }\n",
       "</style>\n",
       "<table border=\"1\" class=\"dataframe\">\n",
       "  <thead>\n",
       "    <tr style=\"text-align: right;\">\n",
       "      <th></th>\n",
       "      <th>ts</th>\n",
       "      <th>user_id</th>\n",
       "      <th>country_id</th>\n",
       "      <th>site_id</th>\n",
       "    </tr>\n",
       "  </thead>\n",
       "  <tbody>\n",
       "    <tr>\n",
       "      <td>2526</td>\n",
       "      <td>2019-02-05 22:33:51</td>\n",
       "      <td>LC0C32</td>\n",
       "      <td>TL6</td>\n",
       "      <td>QGO3G</td>\n",
       "    </tr>\n",
       "    <tr>\n",
       "      <td>3081</td>\n",
       "      <td>2019-02-07 01:18:03</td>\n",
       "      <td>LC0C32</td>\n",
       "      <td>TL6</td>\n",
       "      <td>N0OTG</td>\n",
       "    </tr>\n",
       "  </tbody>\n",
       "</table>\n",
       "</div>"
      ],
      "text/plain": [
       "                       ts user_id country_id site_id\n",
       "2526  2019-02-05 22:33:51  LC0C32        TL6   QGO3G\n",
       "3081  2019-02-07 01:18:03  LC0C32        TL6   N0OTG"
      ]
     },
     "execution_count": 34,
     "metadata": {},
     "output_type": "execute_result"
    }
   ],
   "source": [
    "df[df['user_id']=='LC0C32'] #verify with some users that the ts and site aggregations computed above is correct by eyeballing"
   ]
  },
  {
   "cell_type": "code",
   "execution_count": 35,
   "metadata": {},
   "outputs": [
    {
     "data": {
      "text/html": [
       "<div>\n",
       "<style scoped>\n",
       "    .dataframe tbody tr th:only-of-type {\n",
       "        vertical-align: middle;\n",
       "    }\n",
       "\n",
       "    .dataframe tbody tr th {\n",
       "        vertical-align: top;\n",
       "    }\n",
       "\n",
       "    .dataframe thead tr th {\n",
       "        text-align: left;\n",
       "    }\n",
       "\n",
       "    .dataframe thead tr:last-of-type th {\n",
       "        text-align: right;\n",
       "    }\n",
       "</style>\n",
       "<table border=\"1\" class=\"dataframe\">\n",
       "  <thead>\n",
       "    <tr>\n",
       "      <th></th>\n",
       "      <th colspan=\"2\" halign=\"left\">ts</th>\n",
       "      <th colspan=\"2\" halign=\"left\">site_id</th>\n",
       "    </tr>\n",
       "    <tr>\n",
       "      <th></th>\n",
       "      <th>min</th>\n",
       "      <th>max</th>\n",
       "      <th>first</th>\n",
       "      <th>last</th>\n",
       "    </tr>\n",
       "    <tr>\n",
       "      <th>user_id</th>\n",
       "      <th></th>\n",
       "      <th></th>\n",
       "      <th></th>\n",
       "      <th></th>\n",
       "    </tr>\n",
       "  </thead>\n",
       "  <tbody>\n",
       "    <tr>\n",
       "      <td>LC00C3</td>\n",
       "      <td>2019-02-03 18:52:50</td>\n",
       "      <td>2019-02-03 18:52:50</td>\n",
       "      <td>5NPAU</td>\n",
       "      <td>5NPAU</td>\n",
       "    </tr>\n",
       "    <tr>\n",
       "      <td>LC01C3</td>\n",
       "      <td>2019-02-04 11:35:10</td>\n",
       "      <td>2019-02-04 11:35:10</td>\n",
       "      <td>5NPAU</td>\n",
       "      <td>5NPAU</td>\n",
       "    </tr>\n",
       "    <tr>\n",
       "      <td>LC05C3</td>\n",
       "      <td>2019-02-02 14:14:44</td>\n",
       "      <td>2019-02-02 14:14:44</td>\n",
       "      <td>5NPAU</td>\n",
       "      <td>5NPAU</td>\n",
       "    </tr>\n",
       "    <tr>\n",
       "      <td>LC06C3</td>\n",
       "      <td>2019-02-01 22:49:39</td>\n",
       "      <td>2019-02-07 01:16:12</td>\n",
       "      <td>N0OTG</td>\n",
       "      <td>N0OTG</td>\n",
       "    </tr>\n",
       "    <tr>\n",
       "      <td>LC07C3</td>\n",
       "      <td>2019-02-05 19:06:42</td>\n",
       "      <td>2019-02-05 19:06:42</td>\n",
       "      <td>5NPAU</td>\n",
       "      <td>5NPAU</td>\n",
       "    </tr>\n",
       "    <tr>\n",
       "      <td>...</td>\n",
       "      <td>...</td>\n",
       "      <td>...</td>\n",
       "      <td>...</td>\n",
       "      <td>...</td>\n",
       "    </tr>\n",
       "    <tr>\n",
       "      <td>LCFC38</td>\n",
       "      <td>2019-02-02 13:58:18</td>\n",
       "      <td>2019-02-02 13:58:18</td>\n",
       "      <td>5NPAU</td>\n",
       "      <td>5NPAU</td>\n",
       "    </tr>\n",
       "    <tr>\n",
       "      <td>LCFC3B</td>\n",
       "      <td>2019-02-05 04:53:03</td>\n",
       "      <td>2019-02-05 04:53:03</td>\n",
       "      <td>N0OTG</td>\n",
       "      <td>N0OTG</td>\n",
       "    </tr>\n",
       "    <tr>\n",
       "      <td>LCFC3D</td>\n",
       "      <td>2019-02-01 18:59:50</td>\n",
       "      <td>2019-02-01 18:59:50</td>\n",
       "      <td>N0OTG</td>\n",
       "      <td>N0OTG</td>\n",
       "    </tr>\n",
       "    <tr>\n",
       "      <td>LCFC3E</td>\n",
       "      <td>2019-02-01 20:49:08</td>\n",
       "      <td>2019-02-01 20:49:13</td>\n",
       "      <td>5NPAU</td>\n",
       "      <td>5NPAU</td>\n",
       "    </tr>\n",
       "    <tr>\n",
       "      <td>LCFFC3</td>\n",
       "      <td>2019-02-02 22:36:23</td>\n",
       "      <td>2019-02-05 03:31:17</td>\n",
       "      <td>N0OTG</td>\n",
       "      <td>N0OTG</td>\n",
       "    </tr>\n",
       "  </tbody>\n",
       "</table>\n",
       "<p>1670 rows × 4 columns</p>\n",
       "</div>"
      ],
      "text/plain": [
       "                          ts                      site_id       \n",
       "                         min                  max   first   last\n",
       "user_id                                                         \n",
       "LC00C3   2019-02-03 18:52:50  2019-02-03 18:52:50   5NPAU  5NPAU\n",
       "LC01C3   2019-02-04 11:35:10  2019-02-04 11:35:10   5NPAU  5NPAU\n",
       "LC05C3   2019-02-02 14:14:44  2019-02-02 14:14:44   5NPAU  5NPAU\n",
       "LC06C3   2019-02-01 22:49:39  2019-02-07 01:16:12   N0OTG  N0OTG\n",
       "LC07C3   2019-02-05 19:06:42  2019-02-05 19:06:42   5NPAU  5NPAU\n",
       "...                      ...                  ...     ...    ...\n",
       "LCFC38   2019-02-02 13:58:18  2019-02-02 13:58:18   5NPAU  5NPAU\n",
       "LCFC3B   2019-02-05 04:53:03  2019-02-05 04:53:03   N0OTG  N0OTG\n",
       "LCFC3D   2019-02-01 18:59:50  2019-02-01 18:59:50   N0OTG  N0OTG\n",
       "LCFC3E   2019-02-01 20:49:08  2019-02-01 20:49:13   5NPAU  5NPAU\n",
       "LCFFC3   2019-02-02 22:36:23  2019-02-05 03:31:17   N0OTG  N0OTG\n",
       "\n",
       "[1670 rows x 4 columns]"
      ]
     },
     "execution_count": 35,
     "metadata": {},
     "output_type": "execute_result"
    }
   ],
   "source": [
    "df_site_first[df_site_first['site_id']['first'] == df_site_first['site_id']['last']]"
   ]
  },
  {
   "cell_type": "markdown",
   "metadata": {},
   "source": [
    "__Number of Users where first and last site is same : 1670__"
   ]
  },
  {
   "cell_type": "code",
   "execution_count": 36,
   "metadata": {},
   "outputs": [
    {
     "data": {
      "text/html": [
       "<div>\n",
       "<style scoped>\n",
       "    .dataframe tbody tr th:only-of-type {\n",
       "        vertical-align: middle;\n",
       "    }\n",
       "\n",
       "    .dataframe tbody tr th {\n",
       "        vertical-align: top;\n",
       "    }\n",
       "\n",
       "    .dataframe thead tr th {\n",
       "        text-align: left;\n",
       "    }\n",
       "\n",
       "    .dataframe thead tr:last-of-type th {\n",
       "        text-align: right;\n",
       "    }\n",
       "</style>\n",
       "<table border=\"1\" class=\"dataframe\">\n",
       "  <thead>\n",
       "    <tr>\n",
       "      <th></th>\n",
       "      <th colspan=\"2\" halign=\"left\">ts</th>\n",
       "      <th colspan=\"2\" halign=\"left\">site_id</th>\n",
       "    </tr>\n",
       "    <tr>\n",
       "      <th></th>\n",
       "      <th>min</th>\n",
       "      <th>max</th>\n",
       "      <th>first</th>\n",
       "      <th>last</th>\n",
       "    </tr>\n",
       "    <tr>\n",
       "      <th>user_id</th>\n",
       "      <th></th>\n",
       "      <th></th>\n",
       "      <th></th>\n",
       "      <th></th>\n",
       "    </tr>\n",
       "  </thead>\n",
       "  <tbody>\n",
       "    <tr>\n",
       "      <td>LC0C32</td>\n",
       "      <td>2019-02-05 22:33:51</td>\n",
       "      <td>2019-02-07 01:18:03</td>\n",
       "      <td>QGO3G</td>\n",
       "      <td>N0OTG</td>\n",
       "    </tr>\n",
       "    <tr>\n",
       "      <td>LC1C32</td>\n",
       "      <td>2019-02-04 13:24:34</td>\n",
       "      <td>2019-02-05 01:59:42</td>\n",
       "      <td>5NPAU</td>\n",
       "      <td>QGO3G</td>\n",
       "    </tr>\n",
       "    <tr>\n",
       "      <td>LC1C3C</td>\n",
       "      <td>2019-02-01 13:28:31</td>\n",
       "      <td>2019-02-04 18:49:03</td>\n",
       "      <td>N0OTG</td>\n",
       "      <td>5NPAU</td>\n",
       "    </tr>\n",
       "    <tr>\n",
       "      <td>LC1EC3</td>\n",
       "      <td>2019-02-04 19:14:01</td>\n",
       "      <td>2019-02-07 20:38:10</td>\n",
       "      <td>5NPAU</td>\n",
       "      <td>N0OTG</td>\n",
       "    </tr>\n",
       "    <tr>\n",
       "      <td>LC2C36</td>\n",
       "      <td>2019-02-05 14:54:53</td>\n",
       "      <td>2019-02-06 22:28:21</td>\n",
       "      <td>N0OTG</td>\n",
       "      <td>5NPAU</td>\n",
       "    </tr>\n",
       "    <tr>\n",
       "      <td>...</td>\n",
       "      <td>...</td>\n",
       "      <td>...</td>\n",
       "      <td>...</td>\n",
       "      <td>...</td>\n",
       "    </tr>\n",
       "    <tr>\n",
       "      <td>LCDC36</td>\n",
       "      <td>2019-02-01 19:48:37</td>\n",
       "      <td>2019-02-04 18:50:23</td>\n",
       "      <td>5NPAU</td>\n",
       "      <td>N0OTG</td>\n",
       "    </tr>\n",
       "    <tr>\n",
       "      <td>LCEDC3</td>\n",
       "      <td>2019-02-01 12:40:17</td>\n",
       "      <td>2019-02-06 00:42:54</td>\n",
       "      <td>GVOFK</td>\n",
       "      <td>5NPAU</td>\n",
       "    </tr>\n",
       "    <tr>\n",
       "      <td>LCF8C3</td>\n",
       "      <td>2019-02-02 20:11:26</td>\n",
       "      <td>2019-02-07 20:34:58</td>\n",
       "      <td>5NPAU</td>\n",
       "      <td>N0OTG</td>\n",
       "    </tr>\n",
       "    <tr>\n",
       "      <td>LCFC32</td>\n",
       "      <td>2019-02-04 21:02:40</td>\n",
       "      <td>2019-02-06 02:45:48</td>\n",
       "      <td>5NPAU</td>\n",
       "      <td>N0OTG</td>\n",
       "    </tr>\n",
       "    <tr>\n",
       "      <td>LCFEC3</td>\n",
       "      <td>2019-02-02 01:19:49</td>\n",
       "      <td>2019-02-07 06:23:59</td>\n",
       "      <td>N0OTG</td>\n",
       "      <td>3POLC</td>\n",
       "    </tr>\n",
       "  </tbody>\n",
       "</table>\n",
       "<p>246 rows × 4 columns</p>\n",
       "</div>"
      ],
      "text/plain": [
       "                          ts                      site_id       \n",
       "                         min                  max   first   last\n",
       "user_id                                                         \n",
       "LC0C32   2019-02-05 22:33:51  2019-02-07 01:18:03   QGO3G  N0OTG\n",
       "LC1C32   2019-02-04 13:24:34  2019-02-05 01:59:42   5NPAU  QGO3G\n",
       "LC1C3C   2019-02-01 13:28:31  2019-02-04 18:49:03   N0OTG  5NPAU\n",
       "LC1EC3   2019-02-04 19:14:01  2019-02-07 20:38:10   5NPAU  N0OTG\n",
       "LC2C36   2019-02-05 14:54:53  2019-02-06 22:28:21   N0OTG  5NPAU\n",
       "...                      ...                  ...     ...    ...\n",
       "LCDC36   2019-02-01 19:48:37  2019-02-04 18:50:23   5NPAU  N0OTG\n",
       "LCEDC3   2019-02-01 12:40:17  2019-02-06 00:42:54   GVOFK  5NPAU\n",
       "LCF8C3   2019-02-02 20:11:26  2019-02-07 20:34:58   5NPAU  N0OTG\n",
       "LCFC32   2019-02-04 21:02:40  2019-02-06 02:45:48   5NPAU  N0OTG\n",
       "LCFEC3   2019-02-02 01:19:49  2019-02-07 06:23:59   N0OTG  3POLC\n",
       "\n",
       "[246 rows x 4 columns]"
      ]
     },
     "execution_count": 36,
     "metadata": {},
     "output_type": "execute_result"
    }
   ],
   "source": [
    "df_site_first[df_site_first['site_id']['first'] != df_site_first['site_id']['last']]"
   ]
  },
  {
   "cell_type": "markdown",
   "metadata": {},
   "source": [
    "__Number of Users where first and last site is NOT same : 246__"
   ]
  },
  {
   "cell_type": "markdown",
   "metadata": {},
   "source": [
    "1670+246 = 1916 ##Numbers add up to unique users"
   ]
  },
  {
   "cell_type": "code",
   "execution_count": 37,
   "metadata": {},
   "outputs": [
    {
     "data": {
      "text/plain": [
       "1670"
      ]
     },
     "execution_count": 37,
     "metadata": {},
     "output_type": "execute_result"
    }
   ],
   "source": [
    "df_site_first[df_site_first['site_id']['first'] == df_site_first['site_id']['last']].count()[0]"
   ]
  },
  {
   "cell_type": "markdown",
   "metadata": {},
   "source": [
    "Ans for Q4 : 1670"
   ]
  },
  {
   "cell_type": "code",
   "execution_count": null,
   "metadata": {},
   "outputs": [],
   "source": []
  }
 ],
 "metadata": {
  "kernelspec": {
   "display_name": "Python 3",
   "language": "python",
   "name": "python3"
  },
  "language_info": {
   "codemirror_mode": {
    "name": "ipython",
    "version": 3
   },
   "file_extension": ".py",
   "mimetype": "text/x-python",
   "name": "python",
   "nbconvert_exporter": "python",
   "pygments_lexer": "ipython3",
   "version": "3.6.8"
  }
 },
 "nbformat": 4,
 "nbformat_minor": 2
}
